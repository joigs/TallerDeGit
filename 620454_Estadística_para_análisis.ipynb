{
  "nbformat": 4,
  "nbformat_minor": 0,
  "metadata": {
    "colab": {
      "provenance": [],
      "include_colab_link": true
    },
    "kernelspec": {
      "name": "python3",
      "display_name": "Python 3"
    },
    "language_info": {
      "name": "python"
    }
  },
  "cells": [
    {
      "cell_type": "markdown",
      "metadata": {
        "id": "view-in-github",
        "colab_type": "text"
      },
      "source": [
        "<a href=\"https://colab.research.google.com/github/joigs/TallerDeGit/blob/master/620454_Estadi%CC%81stica_para_ana%CC%81lisis.ipynb\" target=\"_parent\"><img src=\"https://colab.research.google.com/assets/colab-badge.svg\" alt=\"Open In Colab\"/></a>"
      ]
    },
    {
      "cell_type": "markdown",
      "source": [
        "# Metodología de trabajo"
      ],
      "metadata": {
        "id": "f708ddZ_fs0V"
      }
    },
    {
      "cell_type": "markdown",
      "source": [
        "![](https://www.proglobalbusinesssolutions.com/wp-content/uploads/2017/12/data-mining.jpg)"
      ],
      "metadata": {
        "id": "YrGvUn2Wfnc7"
      }
    },
    {
      "cell_type": "markdown",
      "source": [
        "# Medidas de tendencia central\n",
        "\n",
        "## Promedio o media aritmética\n",
        "\n",
        "$\\bar{x}=\\frac{\\sum_{i=1}^{n}x_i}{n}$\n",
        "\n",
        "## Varianza\n",
        "### Población\n",
        "\n",
        "$\\sigma^{2}={\\frac{{\\displaystyle \\sum_{i=1}^{N}\\left(x_{i}-\\mu\\right)^{2}}}{N}}$\n",
        "\n",
        "### Muestra\n",
        "\n",
        "$s^{2}={\\frac{{\\displaystyle \\sum_{i=1}^{n}\\left(x_{i}-\\mu\\right)^{2}}}{n-1}}$\n",
        "\n",
        "## Desviación estándar\n",
        "### Población : $\\sigma=\\sqrt{\\sigma^{2}}$\n",
        "### Muestra : $s=\\sqrt{s^{2}}$"
      ],
      "metadata": {
        "id": "TOCdlxudeOuT"
      }
    },
    {
      "cell_type": "code",
      "execution_count": 1,
      "metadata": {
        "colab": {
          "base_uri": "https://localhost:8080/"
        },
        "id": "1--sPe-vc1zG",
        "outputId": "c76225d2-973e-4a63-ebf9-2bab4a81452a"
      },
      "outputs": [
        {
          "output_type": "stream",
          "name": "stdout",
          "text": [
            "[52, 21, 39, 55, 62, 35, 22, 49, 63, 42, 43, 18, 19, 23, 45, 31, 57, 59, 32, 27, 36, 34, 30, 40, 65, 50, 48, 24, 61, 37]\n"
          ]
        }
      ],
      "source": [
        "import random\n",
        "random.seed(29)\n",
        "edades = range(17,66)\n",
        "muestra = random.sample(edades, 30)\n",
        "print(muestra)"
      ]
    },
    {
      "cell_type": "code",
      "source": [
        "import numpy as np\n",
        "print(\"Media : {:.2f}\".format(np.mean(muestra)))\n",
        "print(\"Mediana  :{:.2f}\".format(np.median(muestra)))\n",
        "print(\"Varianza :{:.2f}\".format(np.var(muestra)))\n",
        "print(\"Desviación estándar : {:.2f}\".format(np.std(muestra)))\n",
        "print(\"Desviación estándar * : {:.2f}\".format(np.sqrt(np.var(muestra))))"
      ],
      "metadata": {
        "colab": {
          "base_uri": "https://localhost:8080/"
        },
        "id": "0UrlJvMYdWUY",
        "outputId": "60396012-6c8c-4a0f-f24a-d07016b91c2b"
      },
      "execution_count": 2,
      "outputs": [
        {
          "output_type": "stream",
          "name": "stdout",
          "text": [
            "Media : 40.63\n",
            "Mediana  :39.50\n",
            "Varianza :200.83\n",
            "Desviación estándar : 14.17\n",
            "Desviación estándar * : 14.17\n"
          ]
        }
      ]
    },
    {
      "cell_type": "markdown",
      "source": [
        "# Medidas de posición"
      ],
      "metadata": {
        "id": "q53CWTRZeSml"
      }
    },
    {
      "cell_type": "code",
      "source": [
        "# Medidas de posición\n",
        "# Tercer cuartil\n",
        "print(\"Tercer cuartil : {0}\".format(np.percentile(muestra, 75)))\n",
        "# Segundo cuartil\n",
        "print(\"Segundo cuartil : {0}\".format(np.percentile(muestra, 50)))\n",
        "# Primer cuartil\n",
        "print(\"Primer cuartil : {0}\".format(np.percentile(muestra, 25)))"
      ],
      "metadata": {
        "colab": {
          "base_uri": "https://localhost:8080/"
        },
        "id": "xAKJLqEUeCsu",
        "outputId": "967fd88a-216c-4d6d-cf9a-c1a824dd57d5"
      },
      "execution_count": 3,
      "outputs": [
        {
          "output_type": "stream",
          "name": "stdout",
          "text": [
            "Tercer cuartil : 51.5\n",
            "Segundo cuartil : 39.5\n",
            "Primer cuartil : 30.25\n"
          ]
        }
      ]
    },
    {
      "cell_type": "code",
      "source": [
        "from statistics import mean, median, median_grouped\n",
        "print(\"Mediana : {0:.2f}\".format(median(muestra)))\n",
        "print(\"Mediana agrupada : {0:.2f}\".format(median_grouped(muestra)))\n",
        "print(\"Promedio : {0:.2f}\".format(mean(muestra)))"
      ],
      "metadata": {
        "colab": {
          "base_uri": "https://localhost:8080/"
        },
        "id": "b9vaddE3e-Q2",
        "outputId": "c12ab547-f91f-4d43-9b59-4a26629ed0c3"
      },
      "execution_count": 4,
      "outputs": [
        {
          "output_type": "stream",
          "name": "stdout",
          "text": [
            "Mediana : 39.50\n",
            "Mediana agrupada : 39.50\n",
            "Promedio : 40.63\n"
          ]
        }
      ]
    },
    {
      "cell_type": "markdown",
      "source": [
        "# Trabajando con dataset"
      ],
      "metadata": {
        "id": "Sb7Jbky8lon7"
      }
    },
    {
      "cell_type": "markdown",
      "source": [
        "[Descripción de los datos](http://www.biostatisticien.eu/springeR/jeuxDonnees4-en.html)"
      ],
      "metadata": {
        "id": "ZAQ8tL2qmnS8"
      }
    },
    {
      "cell_type": "code",
      "source": [
        "import pandas as pd\n",
        "data = pd.read_excel(\"nutrition_elderly.xls\")\n"
      ],
      "metadata": {
        "id": "_5Wya0TllsM5"
      },
      "execution_count": 6,
      "outputs": []
    },
    {
      "cell_type": "code",
      "source": [
        "# Cantidad de observaciones y características\n",
        "data.shape"
      ],
      "metadata": {
        "colab": {
          "base_uri": "https://localhost:8080/"
        },
        "id": "kgBoZsUlm-Jf",
        "outputId": "97b60de6-5b2e-43bb-eebe-9d125a4cfe18"
      },
      "execution_count": 7,
      "outputs": [
        {
          "output_type": "execute_result",
          "data": {
            "text/plain": [
              "(226, 13)"
            ]
          },
          "metadata": {},
          "execution_count": 7
        }
      ]
    },
    {
      "cell_type": "code",
      "source": [
        "# Muestra 5 observaciones al azar\n",
        "data.sample(5)"
      ],
      "metadata": {
        "colab": {
          "base_uri": "https://localhost:8080/",
          "height": 206
        },
        "id": "3GOPdywnl2pG",
        "outputId": "a0b808e8-372e-4626-8cdd-1f41a9efb631"
      },
      "execution_count": 13,
      "outputs": [
        {
          "output_type": "execute_result",
          "data": {
            "text/plain": [
              "     gender  situation  tea  coffee  height  weight  age  meat  fish  \\\n",
              "135       2          1    0       2     168      63   69     3     3   \n",
              "187       2          2    6       0     158      62   75     3     3   \n",
              "3         2          1    0       0     154      45   91     0     4   \n",
              "24        2          2    3       1     156      56   77     3     2   \n",
              "206       2          1    0       2     171      65   76     3     3   \n",
              "\n",
              "     raw_fruit  cooked_fruit_veg  chocol  fat  \n",
              "135          4                 5       1    3  \n",
              "187          5                 4       0    2  \n",
              "3            4                 0       3    2  \n",
              "24           5                 3       0    4  \n",
              "206          5                 5       5    5  "
            ],
            "text/html": [
              "\n",
              "  <div id=\"df-a001e7a5-8e43-42c7-badb-556d524b5d07\" class=\"colab-df-container\">\n",
              "    <div>\n",
              "<style scoped>\n",
              "    .dataframe tbody tr th:only-of-type {\n",
              "        vertical-align: middle;\n",
              "    }\n",
              "\n",
              "    .dataframe tbody tr th {\n",
              "        vertical-align: top;\n",
              "    }\n",
              "\n",
              "    .dataframe thead th {\n",
              "        text-align: right;\n",
              "    }\n",
              "</style>\n",
              "<table border=\"1\" class=\"dataframe\">\n",
              "  <thead>\n",
              "    <tr style=\"text-align: right;\">\n",
              "      <th></th>\n",
              "      <th>gender</th>\n",
              "      <th>situation</th>\n",
              "      <th>tea</th>\n",
              "      <th>coffee</th>\n",
              "      <th>height</th>\n",
              "      <th>weight</th>\n",
              "      <th>age</th>\n",
              "      <th>meat</th>\n",
              "      <th>fish</th>\n",
              "      <th>raw_fruit</th>\n",
              "      <th>cooked_fruit_veg</th>\n",
              "      <th>chocol</th>\n",
              "      <th>fat</th>\n",
              "    </tr>\n",
              "  </thead>\n",
              "  <tbody>\n",
              "    <tr>\n",
              "      <th>135</th>\n",
              "      <td>2</td>\n",
              "      <td>1</td>\n",
              "      <td>0</td>\n",
              "      <td>2</td>\n",
              "      <td>168</td>\n",
              "      <td>63</td>\n",
              "      <td>69</td>\n",
              "      <td>3</td>\n",
              "      <td>3</td>\n",
              "      <td>4</td>\n",
              "      <td>5</td>\n",
              "      <td>1</td>\n",
              "      <td>3</td>\n",
              "    </tr>\n",
              "    <tr>\n",
              "      <th>187</th>\n",
              "      <td>2</td>\n",
              "      <td>2</td>\n",
              "      <td>6</td>\n",
              "      <td>0</td>\n",
              "      <td>158</td>\n",
              "      <td>62</td>\n",
              "      <td>75</td>\n",
              "      <td>3</td>\n",
              "      <td>3</td>\n",
              "      <td>5</td>\n",
              "      <td>4</td>\n",
              "      <td>0</td>\n",
              "      <td>2</td>\n",
              "    </tr>\n",
              "    <tr>\n",
              "      <th>3</th>\n",
              "      <td>2</td>\n",
              "      <td>1</td>\n",
              "      <td>0</td>\n",
              "      <td>0</td>\n",
              "      <td>154</td>\n",
              "      <td>45</td>\n",
              "      <td>91</td>\n",
              "      <td>0</td>\n",
              "      <td>4</td>\n",
              "      <td>4</td>\n",
              "      <td>0</td>\n",
              "      <td>3</td>\n",
              "      <td>2</td>\n",
              "    </tr>\n",
              "    <tr>\n",
              "      <th>24</th>\n",
              "      <td>2</td>\n",
              "      <td>2</td>\n",
              "      <td>3</td>\n",
              "      <td>1</td>\n",
              "      <td>156</td>\n",
              "      <td>56</td>\n",
              "      <td>77</td>\n",
              "      <td>3</td>\n",
              "      <td>2</td>\n",
              "      <td>5</td>\n",
              "      <td>3</td>\n",
              "      <td>0</td>\n",
              "      <td>4</td>\n",
              "    </tr>\n",
              "    <tr>\n",
              "      <th>206</th>\n",
              "      <td>2</td>\n",
              "      <td>1</td>\n",
              "      <td>0</td>\n",
              "      <td>2</td>\n",
              "      <td>171</td>\n",
              "      <td>65</td>\n",
              "      <td>76</td>\n",
              "      <td>3</td>\n",
              "      <td>3</td>\n",
              "      <td>5</td>\n",
              "      <td>5</td>\n",
              "      <td>5</td>\n",
              "      <td>5</td>\n",
              "    </tr>\n",
              "  </tbody>\n",
              "</table>\n",
              "</div>\n",
              "    <div class=\"colab-df-buttons\">\n",
              "\n",
              "  <div class=\"colab-df-container\">\n",
              "    <button class=\"colab-df-convert\" onclick=\"convertToInteractive('df-a001e7a5-8e43-42c7-badb-556d524b5d07')\"\n",
              "            title=\"Convert this dataframe to an interactive table.\"\n",
              "            style=\"display:none;\">\n",
              "\n",
              "  <svg xmlns=\"http://www.w3.org/2000/svg\" height=\"24px\" viewBox=\"0 -960 960 960\">\n",
              "    <path d=\"M120-120v-720h720v720H120Zm60-500h600v-160H180v160Zm220 220h160v-160H400v160Zm0 220h160v-160H400v160ZM180-400h160v-160H180v160Zm440 0h160v-160H620v160ZM180-180h160v-160H180v160Zm440 0h160v-160H620v160Z\"/>\n",
              "  </svg>\n",
              "    </button>\n",
              "\n",
              "  <style>\n",
              "    .colab-df-container {\n",
              "      display:flex;\n",
              "      gap: 12px;\n",
              "    }\n",
              "\n",
              "    .colab-df-convert {\n",
              "      background-color: #E8F0FE;\n",
              "      border: none;\n",
              "      border-radius: 50%;\n",
              "      cursor: pointer;\n",
              "      display: none;\n",
              "      fill: #1967D2;\n",
              "      height: 32px;\n",
              "      padding: 0 0 0 0;\n",
              "      width: 32px;\n",
              "    }\n",
              "\n",
              "    .colab-df-convert:hover {\n",
              "      background-color: #E2EBFA;\n",
              "      box-shadow: 0px 1px 2px rgba(60, 64, 67, 0.3), 0px 1px 3px 1px rgba(60, 64, 67, 0.15);\n",
              "      fill: #174EA6;\n",
              "    }\n",
              "\n",
              "    .colab-df-buttons div {\n",
              "      margin-bottom: 4px;\n",
              "    }\n",
              "\n",
              "    [theme=dark] .colab-df-convert {\n",
              "      background-color: #3B4455;\n",
              "      fill: #D2E3FC;\n",
              "    }\n",
              "\n",
              "    [theme=dark] .colab-df-convert:hover {\n",
              "      background-color: #434B5C;\n",
              "      box-shadow: 0px 1px 3px 1px rgba(0, 0, 0, 0.15);\n",
              "      filter: drop-shadow(0px 1px 2px rgba(0, 0, 0, 0.3));\n",
              "      fill: #FFFFFF;\n",
              "    }\n",
              "  </style>\n",
              "\n",
              "    <script>\n",
              "      const buttonEl =\n",
              "        document.querySelector('#df-a001e7a5-8e43-42c7-badb-556d524b5d07 button.colab-df-convert');\n",
              "      buttonEl.style.display =\n",
              "        google.colab.kernel.accessAllowed ? 'block' : 'none';\n",
              "\n",
              "      async function convertToInteractive(key) {\n",
              "        const element = document.querySelector('#df-a001e7a5-8e43-42c7-badb-556d524b5d07');\n",
              "        const dataTable =\n",
              "          await google.colab.kernel.invokeFunction('convertToInteractive',\n",
              "                                                    [key], {});\n",
              "        if (!dataTable) return;\n",
              "\n",
              "        const docLinkHtml = 'Like what you see? Visit the ' +\n",
              "          '<a target=\"_blank\" href=https://colab.research.google.com/notebooks/data_table.ipynb>data table notebook</a>'\n",
              "          + ' to learn more about interactive tables.';\n",
              "        element.innerHTML = '';\n",
              "        dataTable['output_type'] = 'display_data';\n",
              "        await google.colab.output.renderOutput(dataTable, element);\n",
              "        const docLink = document.createElement('div');\n",
              "        docLink.innerHTML = docLinkHtml;\n",
              "        element.appendChild(docLink);\n",
              "      }\n",
              "    </script>\n",
              "  </div>\n",
              "\n",
              "\n",
              "<div id=\"df-e25b6b46-f28a-4646-8ed8-99fa962c8d1d\">\n",
              "  <button class=\"colab-df-quickchart\" onclick=\"quickchart('df-e25b6b46-f28a-4646-8ed8-99fa962c8d1d')\"\n",
              "            title=\"Suggest charts.\"\n",
              "            style=\"display:none;\">\n",
              "\n",
              "<svg xmlns=\"http://www.w3.org/2000/svg\" height=\"24px\"viewBox=\"0 0 24 24\"\n",
              "     width=\"24px\">\n",
              "    <g>\n",
              "        <path d=\"M19 3H5c-1.1 0-2 .9-2 2v14c0 1.1.9 2 2 2h14c1.1 0 2-.9 2-2V5c0-1.1-.9-2-2-2zM9 17H7v-7h2v7zm4 0h-2V7h2v10zm4 0h-2v-4h2v4z\"/>\n",
              "    </g>\n",
              "</svg>\n",
              "  </button>\n",
              "\n",
              "<style>\n",
              "  .colab-df-quickchart {\n",
              "      --bg-color: #E8F0FE;\n",
              "      --fill-color: #1967D2;\n",
              "      --hover-bg-color: #E2EBFA;\n",
              "      --hover-fill-color: #174EA6;\n",
              "      --disabled-fill-color: #AAA;\n",
              "      --disabled-bg-color: #DDD;\n",
              "  }\n",
              "\n",
              "  [theme=dark] .colab-df-quickchart {\n",
              "      --bg-color: #3B4455;\n",
              "      --fill-color: #D2E3FC;\n",
              "      --hover-bg-color: #434B5C;\n",
              "      --hover-fill-color: #FFFFFF;\n",
              "      --disabled-bg-color: #3B4455;\n",
              "      --disabled-fill-color: #666;\n",
              "  }\n",
              "\n",
              "  .colab-df-quickchart {\n",
              "    background-color: var(--bg-color);\n",
              "    border: none;\n",
              "    border-radius: 50%;\n",
              "    cursor: pointer;\n",
              "    display: none;\n",
              "    fill: var(--fill-color);\n",
              "    height: 32px;\n",
              "    padding: 0;\n",
              "    width: 32px;\n",
              "  }\n",
              "\n",
              "  .colab-df-quickchart:hover {\n",
              "    background-color: var(--hover-bg-color);\n",
              "    box-shadow: 0 1px 2px rgba(60, 64, 67, 0.3), 0 1px 3px 1px rgba(60, 64, 67, 0.15);\n",
              "    fill: var(--button-hover-fill-color);\n",
              "  }\n",
              "\n",
              "  .colab-df-quickchart-complete:disabled,\n",
              "  .colab-df-quickchart-complete:disabled:hover {\n",
              "    background-color: var(--disabled-bg-color);\n",
              "    fill: var(--disabled-fill-color);\n",
              "    box-shadow: none;\n",
              "  }\n",
              "\n",
              "  .colab-df-spinner {\n",
              "    border: 2px solid var(--fill-color);\n",
              "    border-color: transparent;\n",
              "    border-bottom-color: var(--fill-color);\n",
              "    animation:\n",
              "      spin 1s steps(1) infinite;\n",
              "  }\n",
              "\n",
              "  @keyframes spin {\n",
              "    0% {\n",
              "      border-color: transparent;\n",
              "      border-bottom-color: var(--fill-color);\n",
              "      border-left-color: var(--fill-color);\n",
              "    }\n",
              "    20% {\n",
              "      border-color: transparent;\n",
              "      border-left-color: var(--fill-color);\n",
              "      border-top-color: var(--fill-color);\n",
              "    }\n",
              "    30% {\n",
              "      border-color: transparent;\n",
              "      border-left-color: var(--fill-color);\n",
              "      border-top-color: var(--fill-color);\n",
              "      border-right-color: var(--fill-color);\n",
              "    }\n",
              "    40% {\n",
              "      border-color: transparent;\n",
              "      border-right-color: var(--fill-color);\n",
              "      border-top-color: var(--fill-color);\n",
              "    }\n",
              "    60% {\n",
              "      border-color: transparent;\n",
              "      border-right-color: var(--fill-color);\n",
              "    }\n",
              "    80% {\n",
              "      border-color: transparent;\n",
              "      border-right-color: var(--fill-color);\n",
              "      border-bottom-color: var(--fill-color);\n",
              "    }\n",
              "    90% {\n",
              "      border-color: transparent;\n",
              "      border-bottom-color: var(--fill-color);\n",
              "    }\n",
              "  }\n",
              "</style>\n",
              "\n",
              "  <script>\n",
              "    async function quickchart(key) {\n",
              "      const quickchartButtonEl =\n",
              "        document.querySelector('#' + key + ' button');\n",
              "      quickchartButtonEl.disabled = true;  // To prevent multiple clicks.\n",
              "      quickchartButtonEl.classList.add('colab-df-spinner');\n",
              "      try {\n",
              "        const charts = await google.colab.kernel.invokeFunction(\n",
              "            'suggestCharts', [key], {});\n",
              "      } catch (error) {\n",
              "        console.error('Error during call to suggestCharts:', error);\n",
              "      }\n",
              "      quickchartButtonEl.classList.remove('colab-df-spinner');\n",
              "      quickchartButtonEl.classList.add('colab-df-quickchart-complete');\n",
              "    }\n",
              "    (() => {\n",
              "      let quickchartButtonEl =\n",
              "        document.querySelector('#df-e25b6b46-f28a-4646-8ed8-99fa962c8d1d button');\n",
              "      quickchartButtonEl.style.display =\n",
              "        google.colab.kernel.accessAllowed ? 'block' : 'none';\n",
              "    })();\n",
              "  </script>\n",
              "</div>\n",
              "    </div>\n",
              "  </div>\n"
            ]
          },
          "metadata": {},
          "execution_count": 13
        }
      ]
    },
    {
      "cell_type": "markdown",
      "source": [
        "## Variables\n",
        "\n",
        "Existen 2 tipos de variables\n",
        "\n",
        "+ Cualitativas\n",
        "+ Cuantitativas\n",
        "\n",
        "Las cuantitativas se dividen en:\n",
        "+ Discreta\n",
        "+ Continua"
      ],
      "metadata": {
        "id": "ttbRHFSjniCQ"
      }
    },
    {
      "cell_type": "code",
      "source": [
        "# Nombre de las columnas\n",
        "data.columns"
      ],
      "metadata": {
        "colab": {
          "base_uri": "https://localhost:8080/"
        },
        "id": "LxAcHhAxmSnq",
        "outputId": "fd219d1a-8590-4470-c071-257fdafefe5e"
      },
      "execution_count": 14,
      "outputs": [
        {
          "output_type": "execute_result",
          "data": {
            "text/plain": [
              "Index(['gender', 'situation', 'tea', 'coffee', 'height', 'weight', 'age',\n",
              "       'meat', 'fish', 'raw_fruit', 'cooked_fruit_veg', 'chocol', 'fat'],\n",
              "      dtype='object')"
            ]
          },
          "metadata": {},
          "execution_count": 14
        }
      ]
    },
    {
      "cell_type": "markdown",
      "source": [
        "$\\textbf{Cualitativas}$\n",
        "+ gender,\n",
        "+ situation,\n",
        "+ fat,\n",
        "+ meat,\n",
        "+ fish,\n",
        "+ raw_fruit,\n",
        "+ cooked_fruit_veg,\n",
        "+ chocol\n",
        "\n",
        "$\\textbf{Cuantitativa discreta}$\n",
        "+ tea\n",
        "+ coffee\n",
        "\n",
        "$\\textbf{Cuantitativa continua}$\n",
        "+ height\n",
        "+ weight\n",
        "+ age"
      ],
      "metadata": {
        "id": "Z1xj_eQwnhOx"
      }
    },
    {
      "cell_type": "code",
      "source": [
        "# Información de las columnas disponibles\n",
        "data.info()"
      ],
      "metadata": {
        "colab": {
          "base_uri": "https://localhost:8080/"
        },
        "id": "UG9BM7m7pHbc",
        "outputId": "7c1db1f1-fe60-49cf-d183-ecfc9b33c121"
      },
      "execution_count": 15,
      "outputs": [
        {
          "output_type": "stream",
          "name": "stdout",
          "text": [
            "<class 'pandas.core.frame.DataFrame'>\n",
            "RangeIndex: 226 entries, 0 to 225\n",
            "Data columns (total 13 columns):\n",
            " #   Column            Non-Null Count  Dtype\n",
            "---  ------            --------------  -----\n",
            " 0   gender            226 non-null    int64\n",
            " 1   situation         226 non-null    int64\n",
            " 2   tea               226 non-null    int64\n",
            " 3   coffee            226 non-null    int64\n",
            " 4   height            226 non-null    int64\n",
            " 5   weight            226 non-null    int64\n",
            " 6   age               226 non-null    int64\n",
            " 7   meat              226 non-null    int64\n",
            " 8   fish              226 non-null    int64\n",
            " 9   raw_fruit         226 non-null    int64\n",
            " 10  cooked_fruit_veg  226 non-null    int64\n",
            " 11  chocol            226 non-null    int64\n",
            " 12  fat               226 non-null    int64\n",
            "dtypes: int64(13)\n",
            "memory usage: 23.1 KB\n"
          ]
        }
      ]
    },
    {
      "cell_type": "code",
      "source": [
        "# Obtiene los valores únicos de la columna\n",
        "data.fat.unique()"
      ],
      "metadata": {
        "colab": {
          "base_uri": "https://localhost:8080/"
        },
        "id": "raHosd5nmyXQ",
        "outputId": "493829c2-f8d9-434e-f132-b8430cbe0692"
      },
      "execution_count": 16,
      "outputs": [
        {
          "output_type": "execute_result",
          "data": {
            "text/plain": [
              "array([6, 4, 2, 3, 8, 1, 5, 7])"
            ]
          },
          "metadata": {},
          "execution_count": 16
        }
      ]
    },
    {
      "cell_type": "code",
      "source": [
        "data.gender.unique()"
      ],
      "metadata": {
        "colab": {
          "base_uri": "https://localhost:8080/"
        },
        "id": "bIsK08ixpBai",
        "outputId": "14276146-36c1-48dd-f0fd-2f502a739e0f"
      },
      "execution_count": 17,
      "outputs": [
        {
          "output_type": "execute_result",
          "data": {
            "text/plain": [
              "array([2, 1])"
            ]
          },
          "metadata": {},
          "execution_count": 17
        }
      ]
    },
    {
      "cell_type": "markdown",
      "source": [
        "## Análisis de columnas"
      ],
      "metadata": {
        "id": "M_ySgg4RnQt7"
      }
    },
    {
      "cell_type": "code",
      "source": [
        "# Cálculo de medidas\n",
        "data['age'].describe()"
      ],
      "metadata": {
        "colab": {
          "base_uri": "https://localhost:8080/"
        },
        "id": "ldcNszfWhqaR",
        "outputId": "81756e3b-21c3-4544-9240-a6bd91c0bde5"
      },
      "execution_count": 18,
      "outputs": [
        {
          "output_type": "execute_result",
          "data": {
            "text/plain": [
              "count    226.000000\n",
              "mean      74.477876\n",
              "std        6.005327\n",
              "min       65.000000\n",
              "25%       70.000000\n",
              "50%       74.000000\n",
              "75%       78.000000\n",
              "max       91.000000\n",
              "Name: age, dtype: float64"
            ]
          },
          "metadata": {},
          "execution_count": 18
        }
      ]
    },
    {
      "cell_type": "code",
      "source": [
        "# Cálculo de medidas\n",
        "data['gender'].describe()"
      ],
      "metadata": {
        "colab": {
          "base_uri": "https://localhost:8080/"
        },
        "id": "3GL5vISKtqSU",
        "outputId": "b6a0d1d6-f589-4aaf-b93c-2d97e056f3bc"
      },
      "execution_count": 19,
      "outputs": [
        {
          "output_type": "execute_result",
          "data": {
            "text/plain": [
              "count    226.000000\n",
              "mean       1.623894\n",
              "std        0.485482\n",
              "min        1.000000\n",
              "25%        1.000000\n",
              "50%        2.000000\n",
              "75%        2.000000\n",
              "max        2.000000\n",
              "Name: gender, dtype: float64"
            ]
          },
          "metadata": {},
          "execution_count": 19
        }
      ]
    },
    {
      "cell_type": "markdown",
      "source": [
        "**OBSERVACIÓN**\n",
        "\n",
        "\n",
        "\n",
        "---\n",
        "\n",
        "\n",
        "\n",
        "Lo anterior no tiene mucho sentido porque la variable género está codificada, porque la variable es cualitativa"
      ],
      "metadata": {
        "id": "GpebTmG1hyQx"
      }
    },
    {
      "cell_type": "code",
      "source": [
        "# Agrega la descripción\n",
        "dict_gender = {1:'Male', 2:'Female'}\n",
        "data['gender_c'] = data['gender'].replace(dict_gender).astype(\"category\")"
      ],
      "metadata": {
        "id": "7nO7pASOs8Zy"
      },
      "execution_count": 28,
      "outputs": []
    },
    {
      "cell_type": "code",
      "source": [
        "# Volvemos a usar el método describe()\n",
        "data['gender_c'].describe()"
      ],
      "metadata": {
        "colab": {
          "base_uri": "https://localhost:8080/"
        },
        "id": "zvDjDskJt_z_",
        "outputId": "781f69f9-0b5e-4a41-8164-041381b9ffb7"
      },
      "execution_count": 23,
      "outputs": [
        {
          "output_type": "execute_result",
          "data": {
            "text/plain": [
              "count        226\n",
              "unique         2\n",
              "top       Female\n",
              "freq         141\n",
              "Name: gender_c, dtype: object"
            ]
          },
          "metadata": {},
          "execution_count": 23
        }
      ]
    },
    {
      "cell_type": "code",
      "source": [
        "# Construye una simple tabla de frecuencia relativa\n",
        "data['gender_c'].value_counts()"
      ],
      "metadata": {
        "colab": {
          "base_uri": "https://localhost:8080/"
        },
        "id": "YDnwVayWinTj",
        "outputId": "e8e75d60-4680-43e1-df9a-bd938c65a8b5"
      },
      "execution_count": 24,
      "outputs": [
        {
          "output_type": "execute_result",
          "data": {
            "text/plain": [
              "Female    141\n",
              "Male       85\n",
              "Name: gender_c, dtype: int64"
            ]
          },
          "metadata": {},
          "execution_count": 24
        }
      ]
    },
    {
      "cell_type": "markdown",
      "source": [
        "## Desafío\n",
        "\n",
        "+ Termine usted de transformar todas las otras variables del tipo cualitativas considerando la descripción de la data desde el enlace que le han entregado.\n",
        "\n",
        "+ Luego, usando el método describe(), comente los resultados obtenidos.\n",
        "\n",
        "+ Construya tablas de frecuencia relativas"
      ],
      "metadata": {
        "id": "6qptGuG6uM0c"
      }
    },
    {
      "cell_type": "code",
      "source": [
        "# Agrega la descripción\n",
        "dict_situation = {1:'Single', 2:'Living with spouse', 3:'Living with family', 4:'Living with someone else'}\n",
        "data['situation_c'] = data['situation'].replace(dict_situation).astype(\"category\")"
      ],
      "metadata": {
        "id": "myedexCgEh3e"
      },
      "execution_count": 25,
      "outputs": []
    },
    {
      "cell_type": "code",
      "source": [
        "data['situation_c'].describe()"
      ],
      "metadata": {
        "colab": {
          "base_uri": "https://localhost:8080/"
        },
        "id": "gBOIxhZqEs1U",
        "outputId": "0f432259-6462-4578-a5d4-6b3785c05423"
      },
      "execution_count": 26,
      "outputs": [
        {
          "output_type": "execute_result",
          "data": {
            "text/plain": [
              "count                    226\n",
              "unique                     3\n",
              "top       Living with spouse\n",
              "freq                     119\n",
              "Name: situation_c, dtype: object"
            ]
          },
          "metadata": {},
          "execution_count": 26
        }
      ]
    },
    {
      "cell_type": "code",
      "source": [
        "# Construye una simple tabla de frecuencia relativa\n",
        "data['situation_c'].value_counts()"
      ],
      "metadata": {
        "colab": {
          "base_uri": "https://localhost:8080/"
        },
        "id": "pHhtLmyCEubL",
        "outputId": "002875a8-e451-4bb1-e265-54301512fe8b"
      },
      "execution_count": 27,
      "outputs": [
        {
          "output_type": "execute_result",
          "data": {
            "text/plain": [
              "Living with spouse    119\n",
              "Single                 98\n",
              "Living with family      9\n",
              "Name: situation_c, dtype: int64"
            ]
          },
          "metadata": {},
          "execution_count": 27
        }
      ]
    },
    {
      "cell_type": "code",
      "source": [
        "dict_fat = {1:'butter', 2:'margarine', 3:'peanut oil', 4:'sunflower oil', 5:'olive oil', 6:'mix of vegetable oils', 7:'colza oil', 8:'duck or goose fat'}\n",
        "data['fat_c'] = data['fat'].replace(dict_fat).astype(\"category\")"
      ],
      "metadata": {
        "id": "_OOAXMZfFY-z"
      },
      "execution_count": 29,
      "outputs": []
    },
    {
      "cell_type": "code",
      "source": [
        "data['fat_c'].describe()"
      ],
      "metadata": {
        "colab": {
          "base_uri": "https://localhost:8080/"
        },
        "id": "7HWj2TJnGYaL",
        "outputId": "16614f89-88a8-4e7b-a199-88767bc4180a"
      },
      "execution_count": 32,
      "outputs": [
        {
          "output_type": "execute_result",
          "data": {
            "text/plain": [
              "count               226\n",
              "unique                8\n",
              "top       sunflower oil\n",
              "freq                 68\n",
              "Name: fat_c, dtype: object"
            ]
          },
          "metadata": {},
          "execution_count": 32
        }
      ]
    },
    {
      "cell_type": "code",
      "source": [
        "data['fat_c'].value_counts()"
      ],
      "metadata": {
        "colab": {
          "base_uri": "https://localhost:8080/"
        },
        "id": "0WbgrB88GSRe",
        "outputId": "1b169961-50cc-4d42-f643-fb81fd316559"
      },
      "execution_count": 31,
      "outputs": [
        {
          "output_type": "execute_result",
          "data": {
            "text/plain": [
              "sunflower oil            68\n",
              "peanut oil               48\n",
              "olive oil                40\n",
              "margarine                27\n",
              "mix of vegetable oils    23\n",
              "butter                   15\n",
              "duck or goose fat         4\n",
              "colza oil                 1\n",
              "Name: fat_c, dtype: int64"
            ]
          },
          "metadata": {},
          "execution_count": 31
        }
      ]
    },
    {
      "cell_type": "code",
      "source": [
        "dict_meat = {0:'never', 1:'less than once a week', 2:'once a week', 3:'2/3 times a week', 4:'4/6 times a week', 5:'every day'}\n",
        "data['meat_c'] = data['meat'].replace(dict_meat).astype('category')"
      ],
      "metadata": {
        "id": "UhNHDRTwGzyS"
      },
      "execution_count": 33,
      "outputs": []
    },
    {
      "cell_type": "code",
      "source": [
        "data['meat_c'].describe()"
      ],
      "metadata": {
        "colab": {
          "base_uri": "https://localhost:8080/"
        },
        "id": "uEdg4b9-Hgvc",
        "outputId": "bdca591b-a864-4847-87e8-878a2fa2fbaa"
      },
      "execution_count": 34,
      "outputs": [
        {
          "output_type": "execute_result",
          "data": {
            "text/plain": [
              "count                  226\n",
              "unique                   6\n",
              "top       2/3 times a week\n",
              "freq                    83\n",
              "Name: meat_c, dtype: object"
            ]
          },
          "metadata": {},
          "execution_count": 34
        }
      ]
    },
    {
      "cell_type": "code",
      "source": [
        "data['meat_c'].value_counts()"
      ],
      "metadata": {
        "colab": {
          "base_uri": "https://localhost:8080/"
        },
        "id": "w5PUBmQ0HvCN",
        "outputId": "9752f12f-3162-4e64-ad37-808555706755"
      },
      "execution_count": 35,
      "outputs": [
        {
          "output_type": "execute_result",
          "data": {
            "text/plain": [
              "2/3 times a week         83\n",
              "4/6 times a week         67\n",
              "every day                61\n",
              "once a week              11\n",
              "less than once a week     3\n",
              "never                     1\n",
              "Name: meat_c, dtype: int64"
            ]
          },
          "metadata": {},
          "execution_count": 35
        }
      ]
    },
    {
      "cell_type": "code",
      "source": [
        "dict_fish = {0:'never', 1:'less than once a week', 2:'once a week', 3:'2/3 times a week', 4:'4/6 times a week', 5:'every day'}\n",
        "data['fish_c'] = data['fish'].replace(dict_fish).astype('category')"
      ],
      "metadata": {
        "id": "vwQ0ZsHnH06j"
      },
      "execution_count": 36,
      "outputs": []
    },
    {
      "cell_type": "code",
      "source": [
        "data['fish_c'].describe()"
      ],
      "metadata": {
        "colab": {
          "base_uri": "https://localhost:8080/"
        },
        "id": "ZLNgWmOmInKD",
        "outputId": "339507c6-d471-4ade-f912-ebc8a1b9ddfd"
      },
      "execution_count": 37,
      "outputs": [
        {
          "output_type": "execute_result",
          "data": {
            "text/plain": [
              "count                  226\n",
              "unique                   6\n",
              "top       2/3 times a week\n",
              "freq                   118\n",
              "Name: fish_c, dtype: object"
            ]
          },
          "metadata": {},
          "execution_count": 37
        }
      ]
    },
    {
      "cell_type": "code",
      "source": [
        "data['fish_c'].value_counts()"
      ],
      "metadata": {
        "colab": {
          "base_uri": "https://localhost:8080/"
        },
        "id": "1hLEUgbBIrmS",
        "outputId": "df6245bf-72aa-43b6-884e-cec4c8bde5aa"
      },
      "execution_count": 38,
      "outputs": [
        {
          "output_type": "execute_result",
          "data": {
            "text/plain": [
              "2/3 times a week         118\n",
              "once a week               61\n",
              "less than once a week     21\n",
              "4/6 times a week          15\n",
              "every day                  7\n",
              "never                      4\n",
              "Name: fish_c, dtype: int64"
            ]
          },
          "metadata": {},
          "execution_count": 38
        }
      ]
    },
    {
      "cell_type": "code",
      "source": [
        "dict_raw_fruit = {0:'never', 1:'less than once a week', 2:'once a week', 3:'2/3 times a week', 4:'4/6 times a week', 5:'every day'}\n",
        "data['raw_fruit_c'] = data['raw_fruit'].replace(dict_raw_fruit).astype('category')"
      ],
      "metadata": {
        "id": "n-2P566-Izwj"
      },
      "execution_count": 43,
      "outputs": []
    },
    {
      "cell_type": "code",
      "source": [
        "data['raw_fruit_c'].describe()"
      ],
      "metadata": {
        "colab": {
          "base_uri": "https://localhost:8080/"
        },
        "id": "DK8h69WyJERj",
        "outputId": "b78974b7-c646-437d-c9bb-43cf22537ec3"
      },
      "execution_count": 44,
      "outputs": [
        {
          "output_type": "execute_result",
          "data": {
            "text/plain": [
              "count           226\n",
              "unique            6\n",
              "top       every day\n",
              "freq            172\n",
              "Name: raw_fruit_c, dtype: object"
            ]
          },
          "metadata": {},
          "execution_count": 44
        }
      ]
    },
    {
      "cell_type": "code",
      "source": [
        "data['raw_fruit_c'].value_counts()"
      ],
      "metadata": {
        "colab": {
          "base_uri": "https://localhost:8080/"
        },
        "id": "bvGabUIOJIt6",
        "outputId": "43bd031b-72b3-4407-85dd-fb2360f66619"
      },
      "execution_count": 45,
      "outputs": [
        {
          "output_type": "execute_result",
          "data": {
            "text/plain": [
              "every day                172\n",
              "4/6 times a week          22\n",
              "2/3 times a week          14\n",
              "less than once a week      8\n",
              "once a week                8\n",
              "never                      2\n",
              "Name: raw_fruit_c, dtype: int64"
            ]
          },
          "metadata": {},
          "execution_count": 45
        }
      ]
    },
    {
      "cell_type": "code",
      "source": [
        "dict_cooked_fruit_veg={0:'never', 1:'less than once a week', 2:'once a week', 3:'2/3 times a week', 4:'4/6 times a week', 5:'every day'}\n",
        "data['cooked_fruit_veg_c'] = data['cooked_fruit_veg'].replace(dict_raw_fruit).astype('category')"
      ],
      "metadata": {
        "id": "XsfU_dYsJQts"
      },
      "execution_count": 46,
      "outputs": []
    },
    {
      "cell_type": "code",
      "source": [
        "data['cooked_fruit_veg_c'].describe()"
      ],
      "metadata": {
        "colab": {
          "base_uri": "https://localhost:8080/"
        },
        "id": "leF_BQGoJ7ec",
        "outputId": "f10eeb1d-b254-4c2c-8682-2443ca198142"
      },
      "execution_count": 47,
      "outputs": [
        {
          "output_type": "execute_result",
          "data": {
            "text/plain": [
              "count           226\n",
              "unique            6\n",
              "top       every day\n",
              "freq            148\n",
              "Name: cooked_fruit_veg_c, dtype: object"
            ]
          },
          "metadata": {},
          "execution_count": 47
        }
      ]
    },
    {
      "cell_type": "code",
      "source": [
        "data['cooked_fruit_veg_c'].value_counts()"
      ],
      "metadata": {
        "colab": {
          "base_uri": "https://localhost:8080/"
        },
        "id": "W3E8YzBXJ_9r",
        "outputId": "c2724175-6d05-4241-c033-7b3f9e79a210"
      },
      "execution_count": 48,
      "outputs": [
        {
          "output_type": "execute_result",
          "data": {
            "text/plain": [
              "every day                148\n",
              "4/6 times a week          36\n",
              "2/3 times a week          30\n",
              "once a week                7\n",
              "less than once a week      3\n",
              "never                      2\n",
              "Name: cooked_fruit_veg_c, dtype: int64"
            ]
          },
          "metadata": {},
          "execution_count": 48
        }
      ]
    },
    {
      "cell_type": "code",
      "source": [
        "dict_chocol = {0:'never', 1:'less than once a week', 2:'once a week', 3:'2/3 times a week', 4:'4/6 times a week', 5:'every day'}\n",
        "data['chocol_c'] = data['chocol'].replace(dict_chocol).astype('category')"
      ],
      "metadata": {
        "id": "fr-mFqDJKLey"
      },
      "execution_count": 49,
      "outputs": []
    },
    {
      "cell_type": "code",
      "source": [
        "data['chocol_c'].describe()"
      ],
      "metadata": {
        "colab": {
          "base_uri": "https://localhost:8080/"
        },
        "id": "sMbxV-DmKX7z",
        "outputId": "f1235a6f-f88c-4c8b-cc6a-562f49116380"
      },
      "execution_count": 50,
      "outputs": [
        {
          "output_type": "execute_result",
          "data": {
            "text/plain": [
              "count           226\n",
              "unique            6\n",
              "top       every day\n",
              "freq             65\n",
              "Name: chocol_c, dtype: object"
            ]
          },
          "metadata": {},
          "execution_count": 50
        }
      ]
    },
    {
      "cell_type": "code",
      "source": [
        "data['chocol_c'].value_counts()"
      ],
      "metadata": {
        "colab": {
          "base_uri": "https://localhost:8080/"
        },
        "id": "dQm1YlZ3KdJ8",
        "outputId": "0238a825-2776-411e-9fd7-dc78164476ed"
      },
      "execution_count": 51,
      "outputs": [
        {
          "output_type": "execute_result",
          "data": {
            "text/plain": [
              "every day                65\n",
              "less than once a week    62\n",
              "never                    50\n",
              "2/3 times a week         22\n",
              "once a week              16\n",
              "4/6 times a week         11\n",
              "Name: chocol_c, dtype: int64"
            ]
          },
          "metadata": {},
          "execution_count": 51
        }
      ]
    },
    {
      "cell_type": "code",
      "source": [
        "data.head"
      ],
      "metadata": {
        "colab": {
          "base_uri": "https://localhost:8080/"
        },
        "id": "Kuf8yW7EKqzd",
        "outputId": "268540ec-0c63-4d95-bf7f-c130e4882534"
      },
      "execution_count": 52,
      "outputs": [
        {
          "output_type": "execute_result",
          "data": {
            "text/plain": [
              "<bound method NDFrame.head of      gender  situation  tea  coffee  height  weight  age  meat  fish  \\\n",
              "0         2          1    0       0     151      58   72     4     3   \n",
              "1         2          1    1       1     162      60   68     5     2   \n",
              "2         2          1    0       4     162      75   78     3     1   \n",
              "3         2          1    0       0     154      45   91     0     4   \n",
              "4         2          1    2       1     154      50   65     5     3   \n",
              "..      ...        ...  ...     ...     ...     ...  ...   ...   ...   \n",
              "221       2          1    0       1     160      73   74     4     3   \n",
              "222       2          2    0       3     163      62   68     4     3   \n",
              "223       1          2    0       2     170      74   71     4     3   \n",
              "224       2          1    0       2     154      45   77     4     3   \n",
              "225       2          2    2       0     159      63   69     3     3   \n",
              "\n",
              "     raw_fruit  ...  chocol  fat  gender_c         situation_c  \\\n",
              "0            1  ...       5    6    Female              Single   \n",
              "1            5  ...       1    4    Female              Single   \n",
              "2            5  ...       5    4    Female              Single   \n",
              "3            4  ...       3    2    Female              Single   \n",
              "4            5  ...       3    2    Female              Single   \n",
              "..         ...  ...     ...  ...       ...                 ...   \n",
              "221          5  ...       1    6    Female              Single   \n",
              "222          4  ...       1    3    Female  Living with spouse   \n",
              "223          4  ...       1    3      Male  Living with spouse   \n",
              "224          3  ...       3    5    Female              Single   \n",
              "225          5  ...       1    4    Female  Living with spouse   \n",
              "\n",
              "                     fat_c            meat_c                 fish_c  \\\n",
              "0    mix of vegetable oils  4/6 times a week       2/3 times a week   \n",
              "1            sunflower oil         every day            once a week   \n",
              "2            sunflower oil  2/3 times a week  less than once a week   \n",
              "3                margarine             never       4/6 times a week   \n",
              "4                margarine         every day       2/3 times a week   \n",
              "..                     ...               ...                    ...   \n",
              "221  mix of vegetable oils  4/6 times a week       2/3 times a week   \n",
              "222             peanut oil  4/6 times a week       2/3 times a week   \n",
              "223             peanut oil  4/6 times a week       2/3 times a week   \n",
              "224              olive oil  4/6 times a week       2/3 times a week   \n",
              "225          sunflower oil  2/3 times a week       2/3 times a week   \n",
              "\n",
              "               raw_fruit_c cooked_fruit_veg_c               chocol_c  \n",
              "0    less than once a week   4/6 times a week              every day  \n",
              "1                every day          every day  less than once a week  \n",
              "2                every day        once a week              every day  \n",
              "3         4/6 times a week              never       2/3 times a week  \n",
              "4                every day          every day       2/3 times a week  \n",
              "..                     ...                ...                    ...  \n",
              "221              every day          every day  less than once a week  \n",
              "222       4/6 times a week   4/6 times a week  less than once a week  \n",
              "223       4/6 times a week   4/6 times a week  less than once a week  \n",
              "224       2/3 times a week          every day       2/3 times a week  \n",
              "225              every day          every day  less than once a week  \n",
              "\n",
              "[226 rows x 21 columns]>"
            ]
          },
          "metadata": {},
          "execution_count": 52
        }
      ]
    }
  ]
}